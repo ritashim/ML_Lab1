# 线性分类

from sklearn.datasets import load_svmlight_file
from sklearn.model_selection import train_test_split
from sklearn.metrics import hinge_loss
from numpy import zeros, insert, ones, dot, append
import matplotlib.pyplot as plt

def pd_t (x,y):
    if(1-y*(dot(x,theta[:14])[0]+theta[14])>=0):
        return -y*x
    else:
        return 0

def pd_b (x,y):
    if(1-y*(dot(x,theta[:14])[0]+theta[14])>=0):
        return -y
    else:
        return 0

def loss (x,y):
    loss = 0
    for i,j in zip(x,y):
        i = i.toarray()
        test = j * (dot(i, theta[:14])[0] + theta[14])
        loss += max(0, test)
    loss = loss/y.size
    return loss

# Load data set
x, y = load_svmlight_file("australian_scale")
x_train, x_test, y_train, y_test = train_test_split(x, y, test_size=0.33)
y_train = y_train.reshape(-1,1)
y_test = y_test.reshape(-1,1)
y_train_n = y_train.shape[0]

# Parameters, all-zero preset
learning_rate = 0.01
theta = zeros((x_train.shape[1]+1,1))
iter_num = 1000
C = 0.8

for iter in range(iter_num):
    g_theta = zeros(14)
    g_beta = 0
    for x, y in zip(x_train, y_train):
        g_theta = g_theta + C*pd_t(x.toarray(),y)
        g_beta = g_beta + C*pd_b(x.toarray(),y)
    g_theta = g_theta + theta[:14].reshape(1,14)
    g = append(g_theta,g_beta)
    g = g/y_train_n
    theta = theta-learning_rate*(g.reshape(15,1))

    # x_train_z = zeros((x_train.shape[0], 1))
    # x_test_z = zeros((x_test.shape[0], 1))
    # x_train_app = insert(x_train.toarray(), 14, values=x_train_z, axis=1)
    # x_test_app = insert(x_test.toarray(), 14, values=x_test_z, axis=1)

    print("Iter %d, LossT: %.2f LossV: %.2f" %(iter, loss(x_train, y_train), loss(x_test, y_test)))
