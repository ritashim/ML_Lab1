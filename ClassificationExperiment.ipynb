# 线性分类

from sklearn.datasets import load_svmlight_file
from sklearn.model_selection import train_test_split
from sklearn.metrics import hinge_loss
from numpy import zeros, insert, ones, r_

def pd_t (x,y):
    

# Load data set
x, y = load_svmlight_file("australian_scale")
x_train, x_test, y_train, y_test = train_test_split(x, y, test_size=0.33)
y_train = y_train.reshape(-1,1)
y_test = y_test.reshape(-1,1)
y_train_n = y_train.shape[0]

# Parameters, all-zero preset
learning_rate = 0.01
theta = zeros((x_train.shape[1],1))
beta = 0
iter_num = 1000
C = 0.8

for iter in range(iter_num):
    for x, y in zip(x_train, y_train):
        theta = theta + C*
        b = b + C*
    print ("Iter %d, LossT: %.2f LossV: %.2f"%(iter,,))